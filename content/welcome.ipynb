{
 "cells": [
  {
   "cell_type": "markdown",
   "metadata": {},
   "source": [
    "# Welcome to the dusk/dawn exercise notebook!\n",
    "\n",
    "This jupyter lab session contains exercises to learn about dusk & dawn. It was created for the [ESiWACE2 DSL workshop](https://www.esiwace.eu/events/esiwace2-dsl-training/esiwace-2-domain-specific-language-dsl-training).\n",
    "\n",
    "In each folder is an exercise:\n",
    "\n",
    "1) `intro` contains instructions how to use this jupyter lab environment and how to use dusk & dawn inside these notebooks.\n",
    "\n",
    "2) `hello_world` introduces first simple dusk features (only point-wise stencils).\n",
    "\n",
    "3) `differential_ops` are exercises where various differential operators are implemented.\n",
    "\n",
    "4) `laplacian` builds upon `differential_ops` to implement a laplacian.\n",
    "\n",
    "5) `diffusion` exercises building a diffusion stencil.\n",
    "\n",
    "6) `shallow_water` is the final exercise where a simplified shallow water model is implemented."
   ]
  }
 ],
 "metadata": {
  "kernelspec": {
   "display_name": "Python 3",
   "language": "python",
   "name": "python3"
  },
  "language_info": {
   "codemirror_mode": {
    "name": "ipython",
    "version": 3
   },
   "file_extension": ".py",
   "mimetype": "text/x-python",
   "name": "python",
   "nbconvert_exporter": "python",
   "pygments_lexer": "ipython3",
   "version": "3.8.2"
  }
 },
 "nbformat": 4,
 "nbformat_minor": 4
}
