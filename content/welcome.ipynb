{
 "cells": [
  {
   "cell_type": "markdown",
   "metadata": {},
   "source": [
    "# Welcome to the dusk/dawn exercise notebook!\n",
    "\n",
    "This jupyter lab session contains exercises to learn about dusk & dawn.\n",
    "\n",
    "In each folder is an exercise:\n",
    "\n",
    "1) `intro` contains instructions how to use this jupyter lab environment and how to use dusk & dawn inside these notebooks.\n",
    "\n",
    "2) `hello_world` introduces first simple dusk features (only point-wise stencils).\n",
    "\n",
    "3) `differential_ops` are exercises where various differential operators are implemented.\n",
    "\n",
    "4) `laplacian` builds upon `differential_ops` to implement a laplacian.\n",
    "\n",
    "5) `diffusion` exercises building a diffusion stencil.\n",
    "\n",
    "6) `shallow_water` is the final exercise where a simplified shallow water model is implemented.\n",
    "\n",
    "The notebooks are developed here: [https://github.com/dawn-ico/dusk-dawn-notebook](https://github.com/dawn-ico/dusk-dawn-notebook)"
   ]
  },
  {
   "cell_type": "markdown",
   "metadata": {},
   "source": [
    "## Update the exercises\n",
    "\n",
    "Before starting the exercises, please make sure to update this repository by executing the cell below. Make sure to reload your open notebooks afterwards (File -> Reload Notebook from Disk).\n",
    "\n",
    "Warning: This will remove all changes so far!"
   ]
  },
  {
   "cell_type": "code",
   "execution_count": null,
   "metadata": {},
   "outputs": [],
   "source": [
    "# remove untracked files\n",
    "!git clean -fdx\n",
    "# remove changes to tracked files\n",
    "!git reset --hard ecmwf_vm_fixes\n",
    "# update repository\n",
    "!git pull"
   ]
  }
 ],
 "metadata": {
  "kernelspec": {
   "display_name": "Python 3",
   "language": "python",
   "name": "python3"
  },
  "language_info": {
   "codemirror_mode": {
    "name": "ipython",
    "version": 3
   },
   "file_extension": ".py",
   "mimetype": "text/x-python",
   "name": "python",
   "nbconvert_exporter": "python",
   "pygments_lexer": "ipython3",
   "version": "3.9.4"
  }
 },
 "nbformat": 4,
 "nbformat_minor": 4
}
