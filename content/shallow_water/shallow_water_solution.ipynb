{
 "cells": [
  {
   "cell_type": "markdown",
   "metadata": {},
   "source": [
    "# This notebook demos a shallow water stencil"
   ]
  },
  {
   "cell_type": "markdown",
   "metadata": {},
   "source": [
    "We first write our shallow water stencil:"
   ]
  },
  {
   "cell_type": "code",
   "execution_count": null,
   "metadata": {},
   "outputs": [],
   "source": [
    "from dusk.script import *\n",
    "\n",
    "\n",
    "@stencil\n",
    "def shallow_water(hC: Field[Cell], hC_t: Field[Cell],\n",
    "                     vC: Field[Cell], vC_t: Field[Cell],\n",
    "                     uC: Field[Cell], uC_t: Field[Cell],\n",
    "                     hC_x: Field[Cell], hC_y: Field[Cell], uvC_div: Field[Cell],\n",
    "                     hE: Field[Edge], vE: Field[Edge], uE: Field[Edge],\n",
    "                     nx: Field[Edge], ny: Field[Edge], L: Field[Edge], alpha: Field[Edge],\n",
    "                     boundary_edges: Field[Edge], boundary_cells: Field[Cell],\n",
    "                     A: Field[Cell], edge_orientation: Field[Cell > Edge],\n",
    "                     Grav: Field[Cell]):\n",
    "\n",
    "    with levels_downward:\n",
    "        # lerp cell quantities to edges\n",
    "        hE = sum_over(Edge > Cell, hC, weights=[1-alpha, alpha])\n",
    "        uE = sum_over(Edge > Cell, uC, weights=[1-alpha, alpha])\n",
    "        vE = sum_over(Edge > Cell, vC, weights=[1-alpha, alpha])\n",
    "    \n",
    "        # boundary conditions on cells\n",
    "        if (boundary_edges):\n",
    "            uE = 0.\n",
    "            vE = 0.\n",
    "\n",
    "        # height field gradient \n",
    "        hC_x = sum_over(Cell > Edge, hE * nx * L * edge_orientation) / A\n",
    "        hC_y = sum_over(Cell > Edge, hE * ny * L * edge_orientation) / A\n",
    "\n",
    "        # height field gradient is zero on the boundaries\n",
    "        if (boundary_cells):\n",
    "            hC_x = 0.\n",
    "            hC_y = 0.\n",
    "\n",
    "        # divergence of velocity field\n",
    "        uvC_div = sum_over(Cell > Edge, (uE*nx + vE*ny)\n",
    "                           * edge_orientation * L) / A\n",
    "\n",
    "        # build ODE's\n",
    "        uC_t = Grav * hC_x\n",
    "        vC_t = Grav * hC_y\n",
    "        hC_t = -hC * uvC_div\n"
   ]
  },
  {
   "cell_type": "markdown",
   "metadata": {},
   "source": [
    "Then we can use dusk's Python API to convert the stencils to SIR. This API can also invoke dawn to compile SIR to C++ which we will write to `shallow_water_cxx-naive.cpp`:"
   ]
  },
  {
   "cell_type": "code",
   "execution_count": null,
   "metadata": {},
   "outputs": [],
   "source": [
    "from dusk.transpile import callable_to_pyast, pyast_to_sir, sir_to_json\n",
    "with open(\"shallow_water.sir\", \"w+\") as f:\n",
    "    sir = pyast_to_sir(callable_to_pyast(shallow_water))\n",
    "    f.write(sir_to_json(sir))\n",
    "!dawn-opt shallow_water.sir | dawn-codegen -b naive-ico -o shallow_water_cxx-naive.cpp"
   ]
  },
  {
   "cell_type": "markdown",
   "metadata": {},
   "source": [
    "The generated C++ code also requires a driver which is already setup for this demo. With the driver code we can generate an executable `runner`:"
   ]
  },
  {
   "cell_type": "code",
   "execution_count": null,
   "metadata": {},
   "outputs": [],
   "source": [
    "!make"
   ]
  },
  {
   "cell_type": "markdown",
   "metadata": {},
   "source": [
    "First, we put the runner into test mode to ensure that the computed kernel is correct:"
   ]
  },
  {
   "cell_type": "code",
   "execution_count": null,
   "metadata": {},
   "outputs": [],
   "source": [
    "!./runner test"
   ]
  },
  {
   "cell_type": "markdown",
   "metadata": {},
   "source": [
    "If the tester reported that your dusk stencil works correctly, you can now run the complete stencil and visualize. It takes quite a while to run. Its finished after 400 time steps."
   ]
  },
  {
   "cell_type": "code",
   "execution_count": null,
   "metadata": {
    "scrolled": true
   },
   "outputs": [],
   "source": [
    "!./runner run"
   ]
  },
  {
   "cell_type": "code",
   "execution_count": null,
   "metadata": {},
   "outputs": [],
   "source": [
    "%%capture\n",
    "import prep_animation as pa\n",
    "import matplotlib.animation as animation\n",
    "from IPython.display import HTML\n",
    "\n",
    "animate = animation.FuncAnimation(pa.fig, pa.update_plot, len(pa.out_files), fargs=(pa.zarray, pa.plot), interval = 50)"
   ]
  },
  {
   "cell_type": "code",
   "execution_count": null,
   "metadata": {},
   "outputs": [],
   "source": [
    "HTML(animate.to_html5_video())"
   ]
  }
 ],
 "metadata": {
  "kernelspec": {
   "display_name": "Python 3",
   "language": "python",
   "name": "python3"
  },
  "language_info": {
   "codemirror_mode": {
    "name": "ipython",
    "version": 3
   },
   "file_extension": ".py",
   "mimetype": "text/x-python",
   "name": "python",
   "nbconvert_exporter": "python",
   "pygments_lexer": "ipython3",
   "version": "3.9.4"
  },
  "output_auto_scroll": true
 },
 "nbformat": 4,
 "nbformat_minor": 4
}
