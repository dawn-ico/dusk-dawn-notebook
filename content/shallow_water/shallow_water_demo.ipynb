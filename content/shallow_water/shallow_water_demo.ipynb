{
 "cells": [
  {
   "cell_type": "markdown",
   "metadata": {},
   "source": [
    "# This notebook demos a shallow water stencil"
   ]
  },
  {
   "cell_type": "markdown",
   "metadata": {},
   "source": [
    "We start with some imports & a small helper function to convert our stencil to SIR:"
   ]
  },
  {
   "cell_type": "code",
   "execution_count": null,
   "metadata": {},
   "outputs": [],
   "source": [
    "from typing import Callable\n",
    "\n",
    "from inspect import getsource\n",
    "import ast\n",
    "\n",
    "from dusk.grammar import Grammar\n",
    "\n",
    "from dawn4py import compile, CodeGenBackend\n",
    "from dawn4py.serialization import make_sir, SIR\n",
    "from dawn4py.serialization.SIR import GridType\n",
    "from dawn4py._dawn4py import run_optimizer_sir\n",
    "\n",
    "\n",
    "def dusk_to_sir(stencil: Callable) -> SIR:\n",
    "    # this will give wrong line numbers, there should be a way to fix them\n",
    "    name = stencil.__name__\n",
    "    stencil = ast.parse(getsource(stencil))\n",
    "\n",
    "    assert isinstance(stencil, ast.Module)\n",
    "    assert len(stencil.body) == 1\n",
    "    stencil = stencil.body[0]\n",
    "    assert Grammar.is_stencil(stencil)\n",
    "\n",
    "    return make_sir(\n",
    "        name, GridType.Value(\"Unstructured\"), [Grammar().stencil(stencil)]\n",
    "    )"
   ]
  },
  {
   "cell_type": "markdown",
   "metadata": {},
   "source": [
    "With the above definitions, we can write our shallow water stencil:"
   ]
  },
  {
   "cell_type": "code",
   "execution_count": null,
   "metadata": {},
   "outputs": [],
   "source": [
    "from dusk.script import *\n",
    "\n",
    "\n",
    "@stencil\n",
    "def shallow_water(hC: Field[Cell], hC_t: Field[Cell],\n",
    "                     vC: Field[Cell], vC_t: Field[Cell],\n",
    "                     uC: Field[Cell], uC_t: Field[Cell],\n",
    "                     hC_x: Field[Cell], hC_y: Field[Cell], uvC_div: Field[Cell],\n",
    "                     hE: Field[Edge], vE: Field[Edge], uE: Field[Edge],\n",
    "                     nx: Field[Edge], ny: Field[Edge], L: Field[Edge], alpha: Field[Edge],\n",
    "                     boundary_edges: Field[Edge], boundary_cells: Field[Cell],\n",
    "                     A: Field[Cell], edge_orientation: Field[Cell > Edge],\n",
    "                     Grav: Field[Cell]):\n",
    "\n",
    "    with levels_downward:\n",
    "        # TODO replace with shallow water solver\n",
    "        pass\n"
   ]
  },
  {
   "cell_type": "markdown",
   "metadata": {},
   "source": [
    "Then we can use dusk to convert the stencil to SIR. With dawn we can compile SIR to C++ which we will write to `shallow_water_cxx-naive.cpp`:"
   ]
  },
  {
   "cell_type": "code",
   "execution_count": null,
   "metadata": {},
   "outputs": [],
   "source": [
    "sir = dusk_to_sir(shallow_water)\n",
    "cpp_naive = compile(sir, backend=CodeGenBackend.CXXNaiveIco)\n",
    "with open(\"shallow_water_cxx-naive.cpp\", \"w+\") as f:\n",
    "    f.write(cpp_naive)"
   ]
  },
  {
   "cell_type": "markdown",
   "metadata": {},
   "source": [
    "The generated C++ code also requires a driver which is already setup for this demo. With the driver code we can generate an executable `runner`:"
   ]
  },
  {
   "cell_type": "code",
   "execution_count": null,
   "metadata": {},
   "outputs": [],
   "source": [
    "!make"
   ]
  },
  {
   "cell_type": "markdown",
   "metadata": {},
   "source": [
    "First, we put the runner into test mode to ensure that the computed kernel is correct:"
   ]
  },
  {
   "cell_type": "code",
   "execution_count": null,
   "metadata": {},
   "outputs": [],
   "source": [
    "!./runner test"
   ]
  },
  {
   "cell_type": "markdown",
   "metadata": {},
   "source": [
    "If the tester reported that your dusk stencil works correctly, you can now run the complete stencil and visualize. It takes quite a while to run. Its finished after 400 time steps."
   ]
  },
  {
   "cell_type": "code",
   "execution_count": null,
   "metadata": {
    "scrolled": true
   },
   "outputs": [],
   "source": [
    "!./runner run"
   ]
  },
  {
   "cell_type": "code",
   "execution_count": null,
   "metadata": {},
   "outputs": [],
   "source": [
    "%%capture\n",
    "import prep_animation as pa\n",
    "import matplotlib.animation as animation\n",
    "from IPython.display import HTML\n",
    "\n",
    "animate = animation.FuncAnimation(pa.fig, pa.update_plot, len(pa.out_files), fargs=(pa.zarray, pa.plot), interval = 50)"
   ]
  },
  {
   "cell_type": "code",
   "execution_count": null,
   "metadata": {},
   "outputs": [],
   "source": [
    "HTML(animate.to_html5_video())"
   ]
  }
 ],
 "metadata": {
  "kernelspec": {
   "display_name": "Python 3",
   "language": "python",
   "name": "python3"
  },
  "language_info": {
   "codemirror_mode": {
    "name": "ipython",
    "version": 3
   },
   "file_extension": ".py",
   "mimetype": "text/x-python",
   "name": "python",
   "nbconvert_exporter": "python",
   "pygments_lexer": "ipython3",
   "version": "3.8.2"
  }
 },
 "nbformat": 4,
 "nbformat_minor": 4
}
