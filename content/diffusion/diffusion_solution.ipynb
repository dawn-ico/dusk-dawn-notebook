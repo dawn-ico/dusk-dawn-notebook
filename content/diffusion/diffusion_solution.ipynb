{
 "cells": [
  {
   "cell_type": "markdown",
   "metadata": {},
   "source": [
    "# This notebook demos a diffusion stencil"
   ]
  },
  {
   "cell_type": "markdown",
   "metadata": {},
   "source": [
    "Here follows the diffusion stencil"
   ]
  },
  {
   "cell_type": "code",
   "execution_count": null,
   "metadata": {},
   "outputs": [],
   "source": [
    "from dusk.script import *\n",
    "\n",
    "\n",
    "@stencil\n",
    "def diffusion(\n",
    "    TV: Field[Vertex],\n",
    "    TE: Field[Edge], TEinit: Field[Edge], TE_t: Field[Edge], TEnabla2: Field[Edge],\n",
    "    inv_primal_edge_length: Field[Edge], inv_vert_vert_length: Field[Edge], nnbhV: Field[Vertex],\n",
    "    boundary_edge: Field[Edge],\n",
    "    kappa: Field[Edge], dt: Field[Edge]\n",
    ") -> None:\n",
    "\n",
    "    with levels_upward:\n",
    "       # initialize\n",
    "        TEinit = TE\n",
    "    \n",
    "        # predict\n",
    "        TE = TEinit + 0.5*dt*TE_t\n",
    "\n",
    "        # interpolate temperature from edges to vertices\n",
    "        TV = sum_over(Vertex > Edge, TE) / nnbhV\n",
    "\n",
    "        # compute nabla2 using the finite differences\n",
    "        TEnabla2 = sum_over(\n",
    "            Edge > Cell > Vertex,\n",
    "            TV,\n",
    "            weights=[\n",
    "                inv_primal_edge_length ** 2.,\n",
    "                inv_primal_edge_length ** 2.,\n",
    "                inv_vert_vert_length ** 2.,\n",
    "                inv_vert_vert_length ** 2.,\n",
    "            ],\n",
    "        )\n",
    "        TEnabla2 = TEnabla2 - (\n",
    "            (2.0 * TE * inv_primal_edge_length ** 2.)\n",
    "            + (2.0 * TE * inv_vert_vert_length ** 2.)\n",
    "        )\n",
    "    \n",
    "        # build ODEs\n",
    "        if (boundary_edge):\n",
    "            TE_t = 0.\n",
    "        else:\n",
    "            TE_t = kappa*TEnabla2\n",
    "    \n",
    "        # correct\n",
    "        TE = TEinit + dt*TE_t\n"
   ]
  },
  {
   "cell_type": "markdown",
   "metadata": {},
   "source": [
    "Then we can use dusk's Python API to convert the stencils to SIR. This API can also invoke dawn to compile SIR to C++ which we will write to `diffusion_cxx-naive.cpp`:"
   ]
  },
  {
   "cell_type": "code",
   "execution_count": null,
   "metadata": {},
   "outputs": [],
   "source": [
    "from dusk.transpile import callable_to_pyast, pyast_to_sir, sir_to_json\n",
    "with open(\"diffusion.sir\", \"w+\") as f:\n",
    "    sir = pyast_to_sir(callable_to_pyast(diffusion))\n",
    "    f.write(sir_to_json(sir))\n",
    "!dawn-opt diffusion.sir | dawn-codegen -b naive-ico -o diffusion_cxx-naive.cpp"
   ]
  },
  {
   "cell_type": "markdown",
   "metadata": {},
   "source": [
    "The generated C++ code also requires a driver which is already setup for this demo. With the driver code we can generate an executable `runner`:"
   ]
  },
  {
   "cell_type": "code",
   "execution_count": null,
   "metadata": {},
   "outputs": [],
   "source": [
    "!make"
   ]
  },
  {
   "cell_type": "markdown",
   "metadata": {},
   "source": [
    "First, we put the runner into test mode to ensure that the computed kernel is correct:"
   ]
  },
  {
   "cell_type": "code",
   "execution_count": null,
   "metadata": {},
   "outputs": [],
   "source": [
    "!./runner test"
   ]
  },
  {
   "cell_type": "markdown",
   "metadata": {},
   "source": [
    "If the tester reported that your dusk stencil works correctly, you can now run the complete stencil and visualize"
   ]
  },
  {
   "cell_type": "code",
   "execution_count": null,
   "metadata": {
    "scrolled": true
   },
   "outputs": [],
   "source": [
    "!./runner run"
   ]
  },
  {
   "cell_type": "code",
   "execution_count": null,
   "metadata": {},
   "outputs": [],
   "source": [
    "%%capture\n",
    "import prep_animation as pa\n",
    "import matplotlib.animation as animation\n",
    "from IPython.display import HTML\n",
    "animate = animation.FuncAnimation(pa.fig, pa.update_plot, len(pa.out_files), fargs=(pa.zarray, pa.plot), interval = 50)"
   ]
  },
  {
   "cell_type": "code",
   "execution_count": null,
   "metadata": {},
   "outputs": [],
   "source": [
    "HTML(animate.to_html5_video())"
   ]
  }
 ],
 "metadata": {
  "kernelspec": {
   "display_name": "Python 3",
   "language": "python",
   "name": "python3"
  },
  "language_info": {
   "codemirror_mode": {
    "name": "ipython",
    "version": 3
   },
   "file_extension": ".py",
   "mimetype": "text/x-python",
   "name": "python",
   "nbconvert_exporter": "python",
   "pygments_lexer": "ipython3",
   "version": "3.9.4"
  },
  "output_auto_scroll": true
 },
 "nbformat": 4,
 "nbformat_minor": 4
}
