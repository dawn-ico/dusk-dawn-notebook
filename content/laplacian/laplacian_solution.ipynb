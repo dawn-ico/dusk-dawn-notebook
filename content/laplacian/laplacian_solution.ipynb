{
 "cells": [
  {
   "cell_type": "markdown",
   "metadata": {},
   "source": [
    "# This notebook demos the FVM laplacian"
   ]
  },
  {
   "cell_type": "markdown",
   "metadata": {},
   "source": [
    "Compute the Laplacian using combinations of the differential operators encountered so far"
   ]
  },
  {
   "cell_type": "code",
   "execution_count": null,
   "metadata": {},
   "outputs": [],
   "source": [
    "from dusk.script import *\n",
    "\n",
    "\n",
    "@stencil\n",
    "def laplacian_fvm(\n",
    "    u: Field[Edge], \n",
    "    v: Field[Edge], \n",
    "    nx: Field[Edge], \n",
    "    ny: Field[Edge],\n",
    "    uv_div: Field[Cell],\n",
    "    uv_curl: Field[Vertex],\n",
    "    grad_of_curl: Field[Edge],\n",
    "    grad_of_div: Field[Edge],\n",
    "    uv_nabla2: Field[Edge],\n",
    "    L: Field[Edge],\n",
    "    dualL: Field[Edge],\n",
    "    A: Field[Cell],\n",
    "    dualA: Field[Vertex],\n",
    "    tangent_orientation: Field[Edge],\n",
    "    edge_orientation_vertex: Field[Vertex > Edge],\n",
    "    edge_orientation_cell: Field[Cell > Edge],\n",
    ") -> None:\n",
    "\n",
    "    with levels_upward as k:\n",
    "\n",
    "        # compute curl (on vertices)\n",
    "        uv_curl = sum_over(Vertex > Edge, (u*nx + v*ny) * dualL * edge_orientation_vertex) / dualA\n",
    "\n",
    "        # compute divergence (on cells)\n",
    "        uv_div = sum_over(Cell > Edge, (u*nx + v*ny) * L * edge_orientation_cell) / A\n",
    "\n",
    "        # first term of of nabla2 (gradient of curl)\n",
    "        grad_of_curl = sum_over(Edge > Vertex, uv_curl, weights=[-1., 1, ])*tangent_orientation/L\n",
    "\n",
    "        # second term of of nabla2 (gradient of divergence)\n",
    "        grad_of_div = sum_over(Edge > Cell, uv_div, weights=[-1., 1, ])/dualL        \n",
    "\n",
    "        # finalize nabla2 (difference between the two gradients)\n",
    "        uv_nabla2 = grad_of_div - grad_of_curl\n"
   ]
  },
  {
   "cell_type": "markdown",
   "metadata": {},
   "source": [
    "Then we can use dusk's Python API to convert the stencils to SIR. This API can also invoke dawn to compile SIR to C++:"
   ]
  },
  {
   "cell_type": "code",
   "execution_count": null,
   "metadata": {},
   "outputs": [],
   "source": [
    "from dusk.transpile import callables_to_pyast, pyast_to_sir, sir_to_json\n",
    "with open(\"laplacian_fvm.sir\", \"w+\") as f:\n",
    "    sir = pyast_to_sir(callables_to_pyast([laplacian_fvm]))\n",
    "    f.write(sir_to_json(sir))\n",
    "!dawn-opt laplacian_fvm.sir | dawn-codegen -b naive-ico -o laplacian_fvm_cxx-naive.cpp"
   ]
  },
  {
   "cell_type": "markdown",
   "metadata": {},
   "source": [
    "The generated C++ code also requires a driver which is already setup for this demo. With the driver code we can generate an executable `runner`:"
   ]
  },
  {
   "cell_type": "code",
   "execution_count": null,
   "metadata": {},
   "outputs": [],
   "source": [
    "!make"
   ]
  },
  {
   "cell_type": "markdown",
   "metadata": {},
   "source": [
    "The runner is going to execute the Laplacian stencil. The divergence and curl are intermediary results this time around, and checked automatically. There is no need for you to specify anything, just execute the runner to see which quantities you got right!"
   ]
  },
  {
   "cell_type": "code",
   "execution_count": null,
   "metadata": {},
   "outputs": [],
   "source": [
    "!./runner "
   ]
  },
  {
   "cell_type": "markdown",
   "metadata": {},
   "source": [
    "Besides ensuring the error norms L1, L2 and L infinity are small (they should all be well below 0.1), you can also have a look at the test function and its Laplacian by executing `checker.py laplacian`. You are free to also look at the `divergence` or `curl` computed above, by using `checker.py divergence` and `checker.py curl`. However, those are the same as the ones computed in the last exercise. You will notice that the **error for the Laplacian is a lot worse** than for the other differentials. We will address this in the next exercise. "
   ]
  },
  {
   "cell_type": "code",
   "execution_count": null,
   "metadata": {},
   "outputs": [],
   "source": [
    "%run checker.py laplacian"
   ]
  }
 ],
 "metadata": {
  "kernelspec": {
   "display_name": "Python 3",
   "language": "python",
   "name": "python3"
  },
  "language_info": {
   "codemirror_mode": {
    "name": "ipython",
    "version": 3
   },
   "file_extension": ".py",
   "mimetype": "text/x-python",
   "name": "python",
   "nbconvert_exporter": "python",
   "pygments_lexer": "ipython3",
   "version": "3.9.4"
  },
  "output_auto_scroll": true
 },
 "nbformat": 4,
 "nbformat_minor": 4
}
